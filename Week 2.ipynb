{
 "cells": [
  {
   "cell_type": "code",
   "execution_count": 2,
   "metadata": {},
   "outputs": [
    {
     "name": "stdout",
     "output_type": "stream",
     "text": [
      "['42', '4', '3', '8738', '5025', '9769', '1374', '7807', '4460', '9582', '9133', '6941', '5811', '1111', '2545', '6772', '6514', '4370', '8101', '4628', '8514', '2939', '8836', '5640', '5622', '4749', '6666', '5843', '5171', '7327', '387', '8569', '1528', '9609', '3818', '1385', '2723', '3709', '4', '6092', '6906', '2640', '1724', '946', '206', '3961', '4558', '6819', '1014', '1198', '9241', '8574', '9477', '4820', '6662', '6575', '7646', '8113', '5928', '4592', '2060', '1882', '5011', '2644', '7468', '9044', '6855', '6564', '3082', '1558', '1188', '8884', '8701', '3157', '9606', '6656', '8153', '468', '9494', '2888', '1471', '5988', '4447', '7666', '3834', '9081', '490']\n"
     ]
    }
   ],
   "source": [
    "import re\n",
    "#fname = input('Enter your file name:')\n",
    "fhandle = open('regex_sum_557642.txt')\n",
    "lst = list()\n",
    "for line in fhandle:\n",
    "    num = re.findall('[0-9]+', line)\n",
    "# by adding new num to empty list, it will get rid of mini bracket, unlike append    \n",
    "    lst= num + lst\n",
    "print(lst)"
   ]
  },
  {
   "cell_type": "code",
   "execution_count": 4,
   "metadata": {},
   "outputs": [
    {
     "name": "stdout",
     "output_type": "stream",
     "text": [
      "441801\n"
     ]
    }
   ],
   "source": [
    "sum = 0\n",
    "for x in lst:\n",
    "    sum = sum +int(x)\n",
    "print(sum)"
   ]
  },
  {
   "cell_type": "code",
   "execution_count": null,
   "metadata": {},
   "outputs": [],
   "source": []
  }
 ],
 "metadata": {
  "kernelspec": {
   "display_name": "Python 3",
   "language": "python",
   "name": "python3"
  },
  "language_info": {
   "codemirror_mode": {
    "name": "ipython",
    "version": 3
   },
   "file_extension": ".py",
   "mimetype": "text/x-python",
   "name": "python",
   "nbconvert_exporter": "python",
   "pygments_lexer": "ipython3",
   "version": "3.7.6"
  }
 },
 "nbformat": 4,
 "nbformat_minor": 4
}
